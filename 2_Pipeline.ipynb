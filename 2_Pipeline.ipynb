{
 "cells": [
  {
   "cell_type": "markdown",
   "metadata": {},
   "source": [
    "# Advanced Lane Finding Project\n",
    "\n",
    "The tasks to accomplish in this project are as following:\n",
    "\n",
    " 1. Compute the camera calibration matrix and distortion coefficients given a set of chessboard images.\n",
    " 2. Apply a distortion correction to raw images.\n",
    " 3. Use color transforms, gradients, etc., to create a thresholded binary image.\n",
    " 4. Apply a perspective transform to rectify binary image (\"birds-eye view\").\n",
    " 5. Detect lane pixels and fit to find the lane boundary.\n",
    " 6. Determine the curvature of the lane and vehicle position with respect to center.\n",
    " 7. Warp the detected lane boundaries back onto the original image.\n",
    " 8. Output visual display of the lane boundaries and numerical estimation of lane curvature and vehicle position.\n"
   ]
  },
  {
   "cell_type": "code",
   "execution_count": null,
   "metadata": {},
   "outputs": [],
   "source": [
    "# Import necessary packages\n",
    "import os\n",
    "import numpy as np\n",
    "import glob # to read files from dir\n",
    "import cv2\n",
    "import matplotlib\n",
    "import matplotlib.pyplot as plt\n",
    "import matplotlib.image as mpimg\n",
    "%matplotlib inline\n",
    "\n",
    "os.getcwd()"
   ]
  },
  {
   "cell_type": "markdown",
   "metadata": {},
   "source": [
    "### Compute the camera calibration matrix and distortion coefficients given a set of chessboard images.\n",
    "The solution can be found in <font color=blue>1_Camera_Calibration.ipynb</font> notebook in this directory."
   ]
  },
  {
   "cell_type": "markdown",
   "metadata": {},
   "source": [
    "### 2. Apply a distortion correction to raw images."
   ]
  },
  {
   "cell_type": "code",
   "execution_count": 2,
   "metadata": {},
   "outputs": [],
   "source": [
    "# Function to perform undistortion process,\n",
    "# returns the undistorted image\n",
    "def cal_undistort(img, objPoints, imgPoints):\n",
    "    # Use cv2.calibrateCamera() and cv2.undistort() from opencv\n",
    "    ret, mtx, dist, rvecs, tvecs = cv2.calibrateCamera(objPoints, imgPoints, img.shape[1:], None, None)\n",
    "    undist = cv2.undistort(img, mtx, dist, None, mtx)\n",
    "    \n",
    "    return undist"
   ]
  },
  {
   "cell_type": "code",
   "execution_count": 3,
   "metadata": {},
   "outputs": [],
   "source": [
    "# Read distorted images from the directory\n",
    "path_dir = os.getcwd()+\"\\\\camera_cal\\\\\"\n",
    "images = glob.glob(path_dir+\"calibration*.jpg\")\n",
    "\n",
    "# prepare object points\n",
    "nxCorners = 9 # he number of inside corners in x\n",
    "nyCorners = 6 # the number of inside corners in y\n",
    "\n",
    "# Arrays to store object & image points\n",
    "objPoints = [] #3D points in real world space\n",
    "imgPoints = [] #2D points in image plane\n",
    "\n",
    "# Prepare obj points such as (0, 0, 0) ... (7, 5, 0)\n",
    "objp = np.zeros((nyCorners*nxCorners, 3), np.float32)\n",
    "objp[:, :2] = np.mgrid[0:nxCorners, 0:nyCorners].T.reshape(-1, 2) # x, y coordinates\n",
    "\n",
    "# Looping over to undistort every image \n",
    "for img_num, fname in enumerate(images):\n",
    "    # Reading image one by one\n",
    "    img = cv2.imread(fname)\n",
    "\n",
    "    # Convert to grayscale\n",
    "    gray = cv2.cvtColor(img, cv2.COLOR_BGR2GRAY)\n",
    "    \n",
    "    # Find the chessboard corners\n",
    "    ret, corners = cv2.findChessboardCorners(gray, (nxCorners, nyCorners), None)\n",
    "    \n",
    "    # If found, draw corners\n",
    "    if ret == True:\n",
    "        objPoints.append(objp)\n",
    "        imgPoints.append(corners)\n",
    "        \n",
    "        # Undistort the distorted image\n",
    "        undist_img = cal_undistort(img, objPoints, imgPoints)\n",
    "# END of FOR LOOP    \n",
    "\n"
   ]
  },
  {
   "cell_type": "code",
   "execution_count": null,
   "metadata": {},
   "outputs": [],
   "source": []
  }
 ],
 "metadata": {
  "kernelspec": {
   "display_name": "Python 3",
   "language": "python",
   "name": "python3"
  },
  "language_info": {
   "codemirror_mode": {
    "name": "ipython",
    "version": 3
   },
   "file_extension": ".py",
   "mimetype": "text/x-python",
   "name": "python",
   "nbconvert_exporter": "python",
   "pygments_lexer": "ipython3",
   "version": "3.6.8"
  }
 },
 "nbformat": 4,
 "nbformat_minor": 2
}
